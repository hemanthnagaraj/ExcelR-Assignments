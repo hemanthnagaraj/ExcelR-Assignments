{
  "nbformat": 4,
  "nbformat_minor": 0,
  "metadata": {
    "colab": {
      "provenance": []
    },
    "kernelspec": {
      "name": "python3",
      "display_name": "Python 3"
    },
    "language_info": {
      "name": "python"
    }
  },
  "cells": [
    {
      "cell_type": "markdown",
      "source": [
        "**Exercise 1 : Prime Numbers**"
      ],
      "metadata": {
        "id": "ztN1xY5iQRDn"
      }
    },
    {
      "cell_type": "code",
      "source": [
        "# A function to check for prime number\n",
        "def prime_number(n): # n is a given number\n",
        "  for i in range(2, n): # Prime number that is divisible by 1 and itself\n",
        "    if n % i == 0:\n",
        "      return print(\"Not Prime\")\n",
        "      break\n",
        "    else:\n",
        "      return print(\"Prime\")"
      ],
      "metadata": {
        "id": "2-WZpZNVQib8"
      },
      "execution_count": null,
      "outputs": []
    },
    {
      "cell_type": "code",
      "source": [
        "# enter a number to check if it is prime or not\n",
        "prime_number(58)"
      ],
      "metadata": {
        "colab": {
          "base_uri": "https://localhost:8080/"
        },
        "id": "6f5o95jxRv0V",
        "outputId": "38f44884-13fc-47ae-f63d-b26ed1f053dd"
      },
      "execution_count": null,
      "outputs": [
        {
          "output_type": "stream",
          "name": "stdout",
          "text": [
            "Not Prime\n"
          ]
        }
      ]
    },
    {
      "cell_type": "markdown",
      "source": [
        "**Exercise 2 : Product of Random Numbers**"
      ],
      "metadata": {
        "id": "LlOwePS9FODc"
      }
    },
    {
      "cell_type": "code",
      "source": [
        "# generate two random numbers\n",
        "import random\n",
        "a = random.randint(1, 100)\n",
        "b = random.randint(1, 100)\n",
        "product = a * b\n",
        "print('Guess the product of : ', a, 'and', b)\n",
        "guess = input() # User input\n",
        "if guess == product:\n",
        "  print('Correct')\n",
        "else:\n",
        "  print('Wrong')"
      ],
      "metadata": {
        "colab": {
          "base_uri": "https://localhost:8080/"
        },
        "id": "bZQptTmPFg66",
        "outputId": "52f89071-6918-433b-a249-1d33fc1ad2f2"
      },
      "execution_count": 5,
      "outputs": [
        {
          "output_type": "stream",
          "name": "stdout",
          "text": [
            "Guess the product of :  1 and 3\n",
            "3\n",
            "Correct\n"
          ]
        }
      ]
    },
    {
      "cell_type": "markdown",
      "source": [
        "**Exercise 3 : Squares of Even / Odd Numbers**"
      ],
      "metadata": {
        "id": "_T1dpRDNHvxW"
      }
    },
    {
      "cell_type": "code",
      "source": [
        "# select all even numbers between 100 and 200\n",
        "for i in range(100, 201, 2): # selects all even numbers\n",
        "  print(i, i**2) # prints the even number and its square"
      ],
      "metadata": {
        "colab": {
          "base_uri": "https://localhost:8080/"
        },
        "id": "7_BGliQTNkD5",
        "outputId": "31470568-8c1f-48eb-e765-f8e824fdbb8d"
      },
      "execution_count": 9,
      "outputs": [
        {
          "output_type": "stream",
          "name": "stdout",
          "text": [
            "100 10000\n",
            "102 10404\n",
            "104 10816\n",
            "106 11236\n",
            "108 11664\n",
            "110 12100\n",
            "112 12544\n",
            "114 12996\n",
            "116 13456\n",
            "118 13924\n",
            "120 14400\n",
            "122 14884\n",
            "124 15376\n",
            "126 15876\n",
            "128 16384\n",
            "130 16900\n",
            "132 17424\n",
            "134 17956\n",
            "136 18496\n",
            "138 19044\n",
            "140 19600\n",
            "142 20164\n",
            "144 20736\n",
            "146 21316\n",
            "148 21904\n",
            "150 22500\n",
            "152 23104\n",
            "154 23716\n",
            "156 24336\n",
            "158 24964\n",
            "160 25600\n",
            "162 26244\n",
            "164 26896\n",
            "166 27556\n",
            "168 28224\n",
            "170 28900\n",
            "172 29584\n",
            "174 30276\n",
            "176 30976\n",
            "178 31684\n",
            "180 32400\n",
            "182 33124\n",
            "184 33856\n",
            "186 34596\n",
            "188 35344\n",
            "190 36100\n",
            "192 36864\n",
            "194 37636\n",
            "196 38416\n",
            "198 39204\n",
            "200 40000\n"
          ]
        }
      ]
    },
    {
      "cell_type": "code",
      "source": [
        "# select all odd numbers between 100 and 200\n",
        "for i in range(101, 201, 2): # selects all odd numbers\n",
        "  print(i, i**2) # prints the odd number and its square"
      ],
      "metadata": {
        "colab": {
          "base_uri": "https://localhost:8080/"
        },
        "id": "55XIAcMZOyMc",
        "outputId": "6f75dcc2-b66e-49b7-8eac-d6dd0c94ca8c"
      },
      "execution_count": 10,
      "outputs": [
        {
          "output_type": "stream",
          "name": "stdout",
          "text": [
            "101 10201\n",
            "103 10609\n",
            "105 11025\n",
            "107 11449\n",
            "109 11881\n",
            "111 12321\n",
            "113 12769\n",
            "115 13225\n",
            "117 13689\n",
            "119 14161\n",
            "121 14641\n",
            "123 15129\n",
            "125 15625\n",
            "127 16129\n",
            "129 16641\n",
            "131 17161\n",
            "133 17689\n",
            "135 18225\n",
            "137 18769\n",
            "139 19321\n",
            "141 19881\n",
            "143 20449\n",
            "145 21025\n",
            "147 21609\n",
            "149 22201\n",
            "151 22801\n",
            "153 23409\n",
            "155 24025\n",
            "157 24649\n",
            "159 25281\n",
            "161 25921\n",
            "163 26569\n",
            "165 27225\n",
            "167 27889\n",
            "169 28561\n",
            "171 29241\n",
            "173 29929\n",
            "175 30625\n",
            "177 31329\n",
            "179 32041\n",
            "181 32761\n",
            "183 33489\n",
            "185 34225\n",
            "187 34969\n",
            "189 35721\n",
            "191 36481\n",
            "193 37249\n",
            "195 38025\n",
            "197 38809\n",
            "199 39601\n"
          ]
        }
      ]
    },
    {
      "cell_type": "markdown",
      "source": [
        "**Exercise 4 : Word counter**"
      ],
      "metadata": {
        "id": "FDF-axtpO5Hp"
      }
    },
    {
      "cell_type": "code",
      "source": [
        "input_text = \"This is a sample text. This text will be used to demonstrate the word counter.\""
      ],
      "metadata": {
        "id": "Cte_k4IgWkPE"
      },
      "execution_count": 11,
      "outputs": []
    },
    {
      "cell_type": "code",
      "source": [
        "# get all the words from the input into a list of words\n",
        "text = input_text.split( )\n",
        "text"
      ],
      "metadata": {
        "colab": {
          "base_uri": "https://localhost:8080/"
        },
        "id": "f_D8O0Q3W1M9",
        "outputId": "0a8a3ca5-218f-4121-f7af-4ccda6e91336"
      },
      "execution_count": 14,
      "outputs": [
        {
          "output_type": "execute_result",
          "data": {
            "text/plain": [
              "['This',\n",
              " 'is',\n",
              " 'a',\n",
              " 'sample',\n",
              " 'text.',\n",
              " 'This',\n",
              " 'text',\n",
              " 'will',\n",
              " 'be',\n",
              " 'used',\n",
              " 'to',\n",
              " 'demonstrate',\n",
              " 'the',\n",
              " 'word',\n",
              " 'counter.']"
            ]
          },
          "metadata": {},
          "execution_count": 14
        }
      ]
    },
    {
      "cell_type": "code",
      "source": [
        "# looping over all the words in the list and counting each word\n",
        "for t in text:\n",
        "  print(t, ':', text.count(t))"
      ],
      "metadata": {
        "colab": {
          "base_uri": "https://localhost:8080/"
        },
        "id": "bIxIKhVhW-tP",
        "outputId": "acc87501-3c14-4507-86d8-891f542e828d"
      },
      "execution_count": 28,
      "outputs": [
        {
          "output_type": "stream",
          "name": "stdout",
          "text": [
            "This : 2\n",
            "is : 1\n",
            "a : 1\n",
            "sample : 1\n",
            "text. : 1\n",
            "This : 2\n",
            "text : 1\n",
            "will : 1\n",
            "be : 1\n",
            "used : 1\n",
            "to : 1\n",
            "demonstrate : 1\n",
            "the : 1\n",
            "word : 1\n",
            "counter. : 1\n"
          ]
        }
      ]
    },
    {
      "cell_type": "markdown",
      "source": [
        "**Exercise 5 : Check for palindrome**"
      ],
      "metadata": {
        "id": "gxF-ijroat1f"
      }
    },
    {
      "cell_type": "code",
      "source": [
        "# define a function to check for palindrome\n",
        "def is_palindrome(input_text):\n",
        "  if input_text == input_text[::-1]: # check if the input text is equal when read starting from the last letter\n",
        "    return True\n",
        "  else:\n",
        "    return False"
      ],
      "metadata": {
        "id": "Tcg90C5MbBxK"
      },
      "execution_count": 40,
      "outputs": []
    },
    {
      "cell_type": "code",
      "source": [
        "input_text = \"racecar\"\n",
        "is_palindrome(input_text)"
      ],
      "metadata": {
        "colab": {
          "base_uri": "https://localhost:8080/"
        },
        "id": "WWJfv1jebYdM",
        "outputId": "29e1d0ff-2efc-49a7-d1ed-77d64bc74338"
      },
      "execution_count": 41,
      "outputs": [
        {
          "output_type": "stream",
          "name": "stdout",
          "text": [
            "raceca\n"
          ]
        },
        {
          "output_type": "execute_result",
          "data": {
            "text/plain": [
              "True"
            ]
          },
          "metadata": {},
          "execution_count": 41
        }
      ]
    }
  ]
}