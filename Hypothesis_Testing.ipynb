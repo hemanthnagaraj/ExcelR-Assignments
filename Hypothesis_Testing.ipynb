{
  "nbformat": 4,
  "nbformat_minor": 0,
  "metadata": {
    "colab": {
      "provenance": []
    },
    "kernelspec": {
      "name": "python3",
      "display_name": "Python 3"
    },
    "language_info": {
      "name": "python"
    }
  },
  "cells": [
    {
      "cell_type": "markdown",
      "source": [
        "**Hypothesis Testing**\n",
        "\n",
        "Bombay hospitality Ltd. operates a franchise model for producing exotic Norwegian dinners throughout New England. The operating cost for a franchise in a week (W) is given by the equation W = $1,000 + $5X, where X represents the number of units produced in a week. Recent feedback from restaurant owners suggests that this cost model may no longer be accurate, as their observed weekly operating costs are higher.\n",
        "\n",
        "**Objective**\n",
        "\n",
        "To investigate the restaurant owners' claim about the increase in weekly operating costs using hypothesis testing.\n",
        "\n",
        "*   Operating cost model: W = $1000 + $5X\n",
        "*   Sample of 25 restaurants\n",
        "*   Mean weekly cost of $3050\n",
        "*   Number of units produced in a week (X) follows a normal distribution with mean (µ) of 600 units and a SD (σ) of 25 units"
      ],
      "metadata": {
        "id": "tVCd5uTCDE0P"
      }
    },
    {
      "cell_type": "markdown",
      "source": [
        "**Assigment Tasks:**\n",
        "\n",
        "1. **State the Hypothesis Statement**\n",
        "\n",
        "*   Null Hypothesis (H_0): The given operating cost model is accurate and no change is required\n",
        "*   Alternate Hypothesis (H_1): The given operating cost model is inaccurate and the restaurant owners' claim that they observe higher weekly costs"
      ],
      "metadata": {
        "id": "EcCSOmr6Fgtq"
      }
    },
    {
      "cell_type": "markdown",
      "source": [
        "2. **Calculate the test statistic**"
      ],
      "metadata": {
        "id": "dWKASzfhG2_0"
      }
    },
    {
      "cell_type": "code",
      "source": [
        "# test statistic = (sample mean - population mean) / (SD / sqrt(n))\n",
        "sample_mean = 3050\n",
        "population_mean = 1000 + (5 * 600)\n",
        "sd = 25\n",
        "n = 25\n",
        "\n",
        "test_statistic = (sample_mean - population_mean) / (sd / (n ** 0.5))\n",
        "print(test_statistic)"
      ],
      "metadata": {
        "colab": {
          "base_uri": "https://localhost:8080/"
        },
        "id": "lQh9VjEzG73b",
        "outputId": "13eab94f-b49e-466e-89f1-20a060a24c90"
      },
      "execution_count": null,
      "outputs": [
        {
          "output_type": "stream",
          "name": "stdout",
          "text": [
            "-190.0\n"
          ]
        }
      ]
    },
    {
      "cell_type": "markdown",
      "source": [
        "Note: The objective is to test the owners' claim about increase in weekly operating cost meaning checking the relationship between variables in a single direction. Hence, One-tailed test more specifically right-tailed as the increase in the operative cost claim is to be verified.\n",
        "\n",
        "The negative value of test_statistic in a right-tailed test means that there is no increase. Hence, checking for right-tail and unable to reject null hypothesis."
      ],
      "metadata": {
        "id": "OpAth0UZPPso"
      }
    },
    {
      "cell_type": "code",
      "source": [
        "import scipy.stats as stats\n",
        "alpha = 0.05\n",
        "\n",
        "# Compute probability value for right-tailed test\n",
        "p_value = 1 - stats.t.cdf(test_statistic, df=(n - 1))\n",
        "\n",
        "print('The probability value based on right-tailed test is: ', round(p_value, 4))\n",
        "\n",
        "# Conclusion\n",
        "print('\\nConclusion: \\n')\n",
        "if p_value > alpha:\n",
        "    print('Fail to reject null hypothesis (H_0). The observerd operational costs are not significantly higher. Hence, the existing operational cost model holds true.')\n",
        "else:\n",
        "    print('Reject null hypothesis (H_0). The observerd operational costs are significantly higher. Hence, need a better operational cost model.')"
      ],
      "metadata": {
        "colab": {
          "base_uri": "https://localhost:8080/"
        },
        "id": "mOgG4vg2ct_K",
        "outputId": "6193e487-799c-4a2d-d2b6-7a21bea60343"
      },
      "execution_count": 12,
      "outputs": [
        {
          "output_type": "stream",
          "name": "stdout",
          "text": [
            "The probability value based on right-tailed test is:  1.0\n",
            "\n",
            "Conclusion: \n",
            "\n",
            "Fail to reject null hypothesis (H_0). The observerd operational costs are not significantly higher. Hence, the existing operational cost model holds true.\n"
          ]
        }
      ]
    }
  ]
}