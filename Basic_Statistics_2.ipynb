{
  "nbformat": 4,
  "nbformat_minor": 0,
  "metadata": {
    "colab": {
      "provenance": []
    },
    "kernelspec": {
      "name": "python3",
      "display_name": "Python 3"
    },
    "language_info": {
      "name": "python"
    }
  },
  "cells": [
    {
      "cell_type": "markdown",
      "source": [
        "**Estimation And Confidence Intervals**"
      ],
      "metadata": {
        "id": "N5X0AEhYowmU"
      }
    },
    {
      "cell_type": "code",
      "source": [
        "# in millions of characters\n",
        "random_print_heads = [1.13, 1.55, 1.43, 0.92, 1.25, 1.36, 1.32, 0.85, 1.07, 1.48, 1.20, 1.33, 1.18, 1.22, 1.29]"
      ],
      "metadata": {
        "id": "m-hCc_gHo7P1"
      },
      "execution_count": 2,
      "outputs": []
    },
    {
      "cell_type": "code",
      "source": [
        "from scipy import stats\n",
        "import numpy as np"
      ],
      "metadata": {
        "id": "WeaDl-8Gp0mj"
      },
      "execution_count": 3,
      "outputs": []
    },
    {
      "cell_type": "markdown",
      "source": [
        "**Task-1 : Build 99% Confidence interval (CI) using sample standard deviation**"
      ],
      "metadata": {
        "id": "ZWzL4FNQ9DjL"
      }
    },
    {
      "cell_type": "markdown",
      "source": [
        "To compute the CI using smaple data, we need\n",
        "\n",
        "*   samples's standard deviation and mean\n",
        "*   standard error\n",
        "*   t-value\n",
        "*   lower and upper limits\n",
        "\n",
        "Note : t-value is calculated when population's standard deviation in not known as it poses an additional layer of uncertainity and t-distribution accounts for this as it has fatter tail."
      ],
      "metadata": {
        "id": "qXdcfInd9kMC"
      }
    },
    {
      "cell_type": "code",
      "source": [
        "sample_std_dev = np.std(random_print_heads, ddof = 1)\n",
        "sample_mean = np.mean(random_print_heads)\n",
        "print('Sample Std_dev: ', sample_std_dev, ', Sample Mean: ', sample_mean)\n",
        "sampe_size = len(random_print_heads)\n",
        "degrees_of_freedom = sampe_size - 1\n",
        "std_error = sample_std_dev / np.sqrt(sampe_size)\n",
        "print('Std Error: ', std_error)"
      ],
      "metadata": {
        "colab": {
          "base_uri": "https://localhost:8080/"
        },
        "id": "yU7-fPnhp59z",
        "outputId": "ef6a0671-46fe-4d4e-8579-54f1d853cea5"
      },
      "execution_count": 11,
      "outputs": [
        {
          "output_type": "stream",
          "name": "stdout",
          "text": [
            "Sample Std_dev:  0.19316412956959936 , Sample Mean:  1.2386666666666666\n",
            "Std Error:  0.04987476379384733\n"
          ]
        }
      ]
    },
    {
      "cell_type": "code",
      "source": [
        "# to get the t-value\n",
        "print(stats.t.interval(0.99, df = degrees_of_freedom))"
      ],
      "metadata": {
        "colab": {
          "base_uri": "https://localhost:8080/"
        },
        "id": "A4GdAxnwtSxk",
        "outputId": "d7f37997-1971-429f-f67c-b65ba3c68bae"
      },
      "execution_count": 6,
      "outputs": [
        {
          "output_type": "stream",
          "name": "stdout",
          "text": [
            "(-2.976842734370834, 2.976842734370834)\n"
          ]
        }
      ]
    },
    {
      "cell_type": "code",
      "source": [
        "print('Lower limit of 99% Confidence Intervals', round(sample_mean + ((stats.t.interval(0.99, df = degrees_of_freedom)[0]) * std_error), 3))\n",
        "print('Upper limit of 99% Confidence Intervals', round(sample_mean + ((stats.t.interval(0.99, df = degrees_of_freedom)[1]) * std_error), 3))"
      ],
      "metadata": {
        "colab": {
          "base_uri": "https://localhost:8080/"
        },
        "id": "vjVIut8uupAJ",
        "outputId": "91e13433-b14e-4602-b196-589d308e438c"
      },
      "execution_count": 12,
      "outputs": [
        {
          "output_type": "stream",
          "name": "stdout",
          "text": [
            "Lower limit of 99% Confidence Intervals 1.09\n",
            "Upper limit of 99% Confidence Intervals 1.387\n"
          ]
        }
      ]
    },
    {
      "cell_type": "markdown",
      "source": [
        "Meaning (in millions of characters) the print-head lifespan is likely between the lower limit and the upper limit."
      ],
      "metadata": {
        "id": "rVYLlyP6Ckc7"
      }
    },
    {
      "cell_type": "markdown",
      "source": [
        "**Task 2 : Build 99% Confidence interval using known population standard deviation**"
      ],
      "metadata": {
        "id": "RfXaxgBq88vi"
      }
    },
    {
      "cell_type": "markdown",
      "source": [
        "Note : the population standard deviation is known and hence z-score will be used to compute the CIs"
      ],
      "metadata": {
        "id": "3iU36TC1DLm4"
      }
    },
    {
      "cell_type": "code",
      "source": [
        "pop_std_dev = 0.2"
      ],
      "metadata": {
        "id": "_b666KMtDpfL"
      },
      "execution_count": 13,
      "outputs": []
    },
    {
      "cell_type": "code",
      "source": [
        "from scipy.stats import norm\n",
        "\n",
        "confidence = 0.99\n",
        "\n",
        "# to get z-score\n",
        "z_score = norm.ppf(1 - (1 - confidence) / 2)\n",
        "print(z_score)"
      ],
      "metadata": {
        "colab": {
          "base_uri": "https://localhost:8080/"
        },
        "id": "HSr5me-qFR-u",
        "outputId": "792afb64-16d7-408b-d816-c03f31ab4290"
      },
      "execution_count": 14,
      "outputs": [
        {
          "output_type": "stream",
          "name": "stdout",
          "text": [
            "2.5758293035489004\n"
          ]
        }
      ]
    },
    {
      "cell_type": "markdown",
      "source": [
        "To calculate the lower and upper limits using z_score as population standard deviation is known.\n",
        "\n",
        "sample_mean ± z_score (pop_std_dev / sqrt(sample_size))"
      ],
      "metadata": {
        "id": "jLsclvfaHCzg"
      }
    },
    {
      "cell_type": "code",
      "source": [
        "print('Lower limit of 99% Confidence Intervals', round(sample_mean - (z_score * (pop_std_dev / np.sqrt(sampe_size))), 3))\n",
        "print('Upper limit of 99% Confidence Intervals', round(sample_mean + (z_score * (pop_std_dev / np.sqrt(sampe_size))), 3))"
      ],
      "metadata": {
        "colab": {
          "base_uri": "https://localhost:8080/"
        },
        "id": "fvE_BeDBFoYC",
        "outputId": "ca14c3ff-a732-4810-8a79-e5bb2b989816"
      },
      "execution_count": 15,
      "outputs": [
        {
          "output_type": "stream",
          "name": "stdout",
          "text": [
            "Lower limit of 99% Confidence Intervals 1.106\n",
            "Upper limit of 99% Confidence Intervals 1.372\n"
          ]
        }
      ]
    },
    {
      "cell_type": "markdown",
      "source": [
        "The 99% CI for the mean number of characters printed before failure is in the range between lower and upper limits."
      ],
      "metadata": {
        "id": "InmqPxwYHrJj"
      }
    }
  ]
}